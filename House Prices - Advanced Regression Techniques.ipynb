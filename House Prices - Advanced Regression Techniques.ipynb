{
 "cells": [
  {
   "cell_type": "markdown",
   "id": "a0864c54",
   "metadata": {},
   "source": [
    "# House Prices - Advanced Regression Techniques"
   ]
  },
  {
   "cell_type": "markdown",
   "id": "f500260a",
   "metadata": {},
   "source": [
    "## Import the relevant Libraries"
   ]
  },
  {
   "cell_type": "code",
   "execution_count": 1,
   "id": "23fb350b",
   "metadata": {},
   "outputs": [],
   "source": [
    "import pandas as pd\n",
    "import numpy as np\n",
    "\n",
    "import matplotlib.pyplot as plt\n",
    "import seaborn as sns\n",
    "sns.set()"
   ]
  },
  {
   "cell_type": "markdown",
   "id": "af787393",
   "metadata": {},
   "source": [
    "## Importing Datasets"
   ]
  },
  {
   "cell_type": "code",
   "execution_count": 2,
   "id": "e0cbee14",
   "metadata": {},
   "outputs": [],
   "source": [
    "train = pd.read_csv(\"train.csv\", index_col=\"Id\")\n",
    "test = pd.read_csv(\"test.csv\")"
   ]
  },
  {
   "cell_type": "code",
   "execution_count": 3,
   "id": "af59b306",
   "metadata": {},
   "outputs": [],
   "source": [
    "test_ids = test[\"Id\"].values\n",
    "test = pd.read_csv(\"test.csv\", index_col=\"Id\")"
   ]
  },
  {
   "cell_type": "markdown",
   "id": "e85636f5",
   "metadata": {},
   "source": [
    "### Dataset View"
   ]
  },
  {
   "cell_type": "code",
   "execution_count": 4,
   "id": "c5c2d618",
   "metadata": {
    "scrolled": true
   },
   "outputs": [
    {
     "data": {
      "text/html": [
       "<div>\n",
       "<style scoped>\n",
       "    .dataframe tbody tr th:only-of-type {\n",
       "        vertical-align: middle;\n",
       "    }\n",
       "\n",
       "    .dataframe tbody tr th {\n",
       "        vertical-align: top;\n",
       "    }\n",
       "\n",
       "    .dataframe thead th {\n",
       "        text-align: right;\n",
       "    }\n",
       "</style>\n",
       "<table border=\"1\" class=\"dataframe\">\n",
       "  <thead>\n",
       "    <tr style=\"text-align: right;\">\n",
       "      <th></th>\n",
       "      <th>MSSubClass</th>\n",
       "      <th>MSZoning</th>\n",
       "      <th>LotFrontage</th>\n",
       "      <th>LotArea</th>\n",
       "      <th>Street</th>\n",
       "      <th>Alley</th>\n",
       "      <th>LotShape</th>\n",
       "      <th>LandContour</th>\n",
       "      <th>Utilities</th>\n",
       "      <th>LotConfig</th>\n",
       "      <th>...</th>\n",
       "      <th>PoolArea</th>\n",
       "      <th>PoolQC</th>\n",
       "      <th>Fence</th>\n",
       "      <th>MiscFeature</th>\n",
       "      <th>MiscVal</th>\n",
       "      <th>MoSold</th>\n",
       "      <th>YrSold</th>\n",
       "      <th>SaleType</th>\n",
       "      <th>SaleCondition</th>\n",
       "      <th>SalePrice</th>\n",
       "    </tr>\n",
       "    <tr>\n",
       "      <th>Id</th>\n",
       "      <th></th>\n",
       "      <th></th>\n",
       "      <th></th>\n",
       "      <th></th>\n",
       "      <th></th>\n",
       "      <th></th>\n",
       "      <th></th>\n",
       "      <th></th>\n",
       "      <th></th>\n",
       "      <th></th>\n",
       "      <th></th>\n",
       "      <th></th>\n",
       "      <th></th>\n",
       "      <th></th>\n",
       "      <th></th>\n",
       "      <th></th>\n",
       "      <th></th>\n",
       "      <th></th>\n",
       "      <th></th>\n",
       "      <th></th>\n",
       "      <th></th>\n",
       "    </tr>\n",
       "  </thead>\n",
       "  <tbody>\n",
       "    <tr>\n",
       "      <th>1</th>\n",
       "      <td>60</td>\n",
       "      <td>RL</td>\n",
       "      <td>65.0</td>\n",
       "      <td>8450</td>\n",
       "      <td>Pave</td>\n",
       "      <td>NaN</td>\n",
       "      <td>Reg</td>\n",
       "      <td>Lvl</td>\n",
       "      <td>AllPub</td>\n",
       "      <td>Inside</td>\n",
       "      <td>...</td>\n",
       "      <td>0</td>\n",
       "      <td>NaN</td>\n",
       "      <td>NaN</td>\n",
       "      <td>NaN</td>\n",
       "      <td>0</td>\n",
       "      <td>2</td>\n",
       "      <td>2008</td>\n",
       "      <td>WD</td>\n",
       "      <td>Normal</td>\n",
       "      <td>208500</td>\n",
       "    </tr>\n",
       "    <tr>\n",
       "      <th>2</th>\n",
       "      <td>20</td>\n",
       "      <td>RL</td>\n",
       "      <td>80.0</td>\n",
       "      <td>9600</td>\n",
       "      <td>Pave</td>\n",
       "      <td>NaN</td>\n",
       "      <td>Reg</td>\n",
       "      <td>Lvl</td>\n",
       "      <td>AllPub</td>\n",
       "      <td>FR2</td>\n",
       "      <td>...</td>\n",
       "      <td>0</td>\n",
       "      <td>NaN</td>\n",
       "      <td>NaN</td>\n",
       "      <td>NaN</td>\n",
       "      <td>0</td>\n",
       "      <td>5</td>\n",
       "      <td>2007</td>\n",
       "      <td>WD</td>\n",
       "      <td>Normal</td>\n",
       "      <td>181500</td>\n",
       "    </tr>\n",
       "    <tr>\n",
       "      <th>3</th>\n",
       "      <td>60</td>\n",
       "      <td>RL</td>\n",
       "      <td>68.0</td>\n",
       "      <td>11250</td>\n",
       "      <td>Pave</td>\n",
       "      <td>NaN</td>\n",
       "      <td>IR1</td>\n",
       "      <td>Lvl</td>\n",
       "      <td>AllPub</td>\n",
       "      <td>Inside</td>\n",
       "      <td>...</td>\n",
       "      <td>0</td>\n",
       "      <td>NaN</td>\n",
       "      <td>NaN</td>\n",
       "      <td>NaN</td>\n",
       "      <td>0</td>\n",
       "      <td>9</td>\n",
       "      <td>2008</td>\n",
       "      <td>WD</td>\n",
       "      <td>Normal</td>\n",
       "      <td>223500</td>\n",
       "    </tr>\n",
       "    <tr>\n",
       "      <th>4</th>\n",
       "      <td>70</td>\n",
       "      <td>RL</td>\n",
       "      <td>60.0</td>\n",
       "      <td>9550</td>\n",
       "      <td>Pave</td>\n",
       "      <td>NaN</td>\n",
       "      <td>IR1</td>\n",
       "      <td>Lvl</td>\n",
       "      <td>AllPub</td>\n",
       "      <td>Corner</td>\n",
       "      <td>...</td>\n",
       "      <td>0</td>\n",
       "      <td>NaN</td>\n",
       "      <td>NaN</td>\n",
       "      <td>NaN</td>\n",
       "      <td>0</td>\n",
       "      <td>2</td>\n",
       "      <td>2006</td>\n",
       "      <td>WD</td>\n",
       "      <td>Abnorml</td>\n",
       "      <td>140000</td>\n",
       "    </tr>\n",
       "    <tr>\n",
       "      <th>5</th>\n",
       "      <td>60</td>\n",
       "      <td>RL</td>\n",
       "      <td>84.0</td>\n",
       "      <td>14260</td>\n",
       "      <td>Pave</td>\n",
       "      <td>NaN</td>\n",
       "      <td>IR1</td>\n",
       "      <td>Lvl</td>\n",
       "      <td>AllPub</td>\n",
       "      <td>FR2</td>\n",
       "      <td>...</td>\n",
       "      <td>0</td>\n",
       "      <td>NaN</td>\n",
       "      <td>NaN</td>\n",
       "      <td>NaN</td>\n",
       "      <td>0</td>\n",
       "      <td>12</td>\n",
       "      <td>2008</td>\n",
       "      <td>WD</td>\n",
       "      <td>Normal</td>\n",
       "      <td>250000</td>\n",
       "    </tr>\n",
       "  </tbody>\n",
       "</table>\n",
       "<p>5 rows × 80 columns</p>\n",
       "</div>"
      ],
      "text/plain": [
       "    MSSubClass MSZoning  LotFrontage  LotArea Street Alley LotShape  \\\n",
       "Id                                                                    \n",
       "1           60       RL         65.0     8450   Pave   NaN      Reg   \n",
       "2           20       RL         80.0     9600   Pave   NaN      Reg   \n",
       "3           60       RL         68.0    11250   Pave   NaN      IR1   \n",
       "4           70       RL         60.0     9550   Pave   NaN      IR1   \n",
       "5           60       RL         84.0    14260   Pave   NaN      IR1   \n",
       "\n",
       "   LandContour Utilities LotConfig  ... PoolArea PoolQC Fence MiscFeature  \\\n",
       "Id                                  ...                                     \n",
       "1          Lvl    AllPub    Inside  ...        0    NaN   NaN         NaN   \n",
       "2          Lvl    AllPub       FR2  ...        0    NaN   NaN         NaN   \n",
       "3          Lvl    AllPub    Inside  ...        0    NaN   NaN         NaN   \n",
       "4          Lvl    AllPub    Corner  ...        0    NaN   NaN         NaN   \n",
       "5          Lvl    AllPub       FR2  ...        0    NaN   NaN         NaN   \n",
       "\n",
       "   MiscVal MoSold  YrSold  SaleType  SaleCondition  SalePrice  \n",
       "Id                                                             \n",
       "1        0      2    2008        WD         Normal     208500  \n",
       "2        0      5    2007        WD         Normal     181500  \n",
       "3        0      9    2008        WD         Normal     223500  \n",
       "4        0      2    2006        WD        Abnorml     140000  \n",
       "5        0     12    2008        WD         Normal     250000  \n",
       "\n",
       "[5 rows x 80 columns]"
      ]
     },
     "execution_count": 4,
     "metadata": {},
     "output_type": "execute_result"
    }
   ],
   "source": [
    "train.head()"
   ]
  },
  {
   "cell_type": "markdown",
   "id": "af7c4628",
   "metadata": {},
   "source": [
    "## OVERVIEW"
   ]
  },
  {
   "cell_type": "markdown",
   "id": "670cef18",
   "metadata": {},
   "source": [
    "### Dataset statistics\n",
    "- **Number of rows: $\\;\\;\\;\\;\\;\\;\\;\\;\\;\\;\\;\\;\\;\\;\\;\\;\\;\\;$ 1460**\n",
    "- **Number of columns: $\\;\\;\\;\\;\\;\\;\\;\\;\\;\\;\\;\\;\\;$ 80**\n",
    "- **Missing values: $\\;\\;\\;\\;\\;\\;\\;\\;\\;\\;\\;\\;\\;\\;\\;\\;\\;\\;\\;\\;$ 6965** \n",
    "- **Missing values (%): $\\;\\;\\;\\;\\;\\;\\;\\;\\;\\;\\;\\;\\;\\;\\;$ 5.96%**"
   ]
  },
  {
   "cell_type": "markdown",
   "id": "8b3a4067",
   "metadata": {},
   "source": [
    "### Number of Rows and Columns"
   ]
  },
  {
   "cell_type": "code",
   "execution_count": 5,
   "id": "eedd927f",
   "metadata": {},
   "outputs": [
    {
     "data": {
      "text/plain": [
       "(1460, 80)"
      ]
     },
     "execution_count": 5,
     "metadata": {},
     "output_type": "execute_result"
    }
   ],
   "source": [
    "train.shape"
   ]
  },
  {
   "cell_type": "markdown",
   "id": "3fdfdf95",
   "metadata": {},
   "source": [
    "### Column Names"
   ]
  },
  {
   "cell_type": "code",
   "execution_count": 6,
   "id": "a6d5aa8c",
   "metadata": {},
   "outputs": [
    {
     "data": {
      "text/plain": [
       "Index(['MSSubClass', 'MSZoning', 'LotFrontage', 'LotArea', 'Street', 'Alley',\n",
       "       'LotShape', 'LandContour', 'Utilities', 'LotConfig', 'LandSlope',\n",
       "       'Neighborhood', 'Condition1', 'Condition2', 'BldgType', 'HouseStyle',\n",
       "       'OverallQual', 'OverallCond', 'YearBuilt', 'YearRemodAdd', 'RoofStyle',\n",
       "       'RoofMatl', 'Exterior1st', 'Exterior2nd', 'MasVnrType', 'MasVnrArea',\n",
       "       'ExterQual', 'ExterCond', 'Foundation', 'BsmtQual', 'BsmtCond',\n",
       "       'BsmtExposure', 'BsmtFinType1', 'BsmtFinSF1', 'BsmtFinType2',\n",
       "       'BsmtFinSF2', 'BsmtUnfSF', 'TotalBsmtSF', 'Heating', 'HeatingQC',\n",
       "       'CentralAir', 'Electrical', '1stFlrSF', '2ndFlrSF', 'LowQualFinSF',\n",
       "       'GrLivArea', 'BsmtFullBath', 'BsmtHalfBath', 'FullBath', 'HalfBath',\n",
       "       'BedroomAbvGr', 'KitchenAbvGr', 'KitchenQual', 'TotRmsAbvGrd',\n",
       "       'Functional', 'Fireplaces', 'FireplaceQu', 'GarageType', 'GarageYrBlt',\n",
       "       'GarageFinish', 'GarageCars', 'GarageArea', 'GarageQual', 'GarageCond',\n",
       "       'PavedDrive', 'WoodDeckSF', 'OpenPorchSF', 'EnclosedPorch', '3SsnPorch',\n",
       "       'ScreenPorch', 'PoolArea', 'PoolQC', 'Fence', 'MiscFeature', 'MiscVal',\n",
       "       'MoSold', 'YrSold', 'SaleType', 'SaleCondition', 'SalePrice'],\n",
       "      dtype='object')"
      ]
     },
     "execution_count": 6,
     "metadata": {},
     "output_type": "execute_result"
    }
   ],
   "source": [
    "train.columns"
   ]
  },
  {
   "cell_type": "markdown",
   "id": "7e79c90c",
   "metadata": {},
   "source": [
    "### Column INFO"
   ]
  },
  {
   "cell_type": "code",
   "execution_count": 7,
   "id": "c8beaa80",
   "metadata": {},
   "outputs": [
    {
     "name": "stdout",
     "output_type": "stream",
     "text": [
      "<class 'pandas.core.frame.DataFrame'>\n",
      "Int64Index: 1460 entries, 1 to 1460\n",
      "Data columns (total 80 columns):\n",
      " #   Column         Non-Null Count  Dtype  \n",
      "---  ------         --------------  -----  \n",
      " 0   MSSubClass     1460 non-null   int64  \n",
      " 1   MSZoning       1460 non-null   object \n",
      " 2   LotFrontage    1201 non-null   float64\n",
      " 3   LotArea        1460 non-null   int64  \n",
      " 4   Street         1460 non-null   object \n",
      " 5   Alley          91 non-null     object \n",
      " 6   LotShape       1460 non-null   object \n",
      " 7   LandContour    1460 non-null   object \n",
      " 8   Utilities      1460 non-null   object \n",
      " 9   LotConfig      1460 non-null   object \n",
      " 10  LandSlope      1460 non-null   object \n",
      " 11  Neighborhood   1460 non-null   object \n",
      " 12  Condition1     1460 non-null   object \n",
      " 13  Condition2     1460 non-null   object \n",
      " 14  BldgType       1460 non-null   object \n",
      " 15  HouseStyle     1460 non-null   object \n",
      " 16  OverallQual    1460 non-null   int64  \n",
      " 17  OverallCond    1460 non-null   int64  \n",
      " 18  YearBuilt      1460 non-null   int64  \n",
      " 19  YearRemodAdd   1460 non-null   int64  \n",
      " 20  RoofStyle      1460 non-null   object \n",
      " 21  RoofMatl       1460 non-null   object \n",
      " 22  Exterior1st    1460 non-null   object \n",
      " 23  Exterior2nd    1460 non-null   object \n",
      " 24  MasVnrType     1452 non-null   object \n",
      " 25  MasVnrArea     1452 non-null   float64\n",
      " 26  ExterQual      1460 non-null   object \n",
      " 27  ExterCond      1460 non-null   object \n",
      " 28  Foundation     1460 non-null   object \n",
      " 29  BsmtQual       1423 non-null   object \n",
      " 30  BsmtCond       1423 non-null   object \n",
      " 31  BsmtExposure   1422 non-null   object \n",
      " 32  BsmtFinType1   1423 non-null   object \n",
      " 33  BsmtFinSF1     1460 non-null   int64  \n",
      " 34  BsmtFinType2   1422 non-null   object \n",
      " 35  BsmtFinSF2     1460 non-null   int64  \n",
      " 36  BsmtUnfSF      1460 non-null   int64  \n",
      " 37  TotalBsmtSF    1460 non-null   int64  \n",
      " 38  Heating        1460 non-null   object \n",
      " 39  HeatingQC      1460 non-null   object \n",
      " 40  CentralAir     1460 non-null   object \n",
      " 41  Electrical     1459 non-null   object \n",
      " 42  1stFlrSF       1460 non-null   int64  \n",
      " 43  2ndFlrSF       1460 non-null   int64  \n",
      " 44  LowQualFinSF   1460 non-null   int64  \n",
      " 45  GrLivArea      1460 non-null   int64  \n",
      " 46  BsmtFullBath   1460 non-null   int64  \n",
      " 47  BsmtHalfBath   1460 non-null   int64  \n",
      " 48  FullBath       1460 non-null   int64  \n",
      " 49  HalfBath       1460 non-null   int64  \n",
      " 50  BedroomAbvGr   1460 non-null   int64  \n",
      " 51  KitchenAbvGr   1460 non-null   int64  \n",
      " 52  KitchenQual    1460 non-null   object \n",
      " 53  TotRmsAbvGrd   1460 non-null   int64  \n",
      " 54  Functional     1460 non-null   object \n",
      " 55  Fireplaces     1460 non-null   int64  \n",
      " 56  FireplaceQu    770 non-null    object \n",
      " 57  GarageType     1379 non-null   object \n",
      " 58  GarageYrBlt    1379 non-null   float64\n",
      " 59  GarageFinish   1379 non-null   object \n",
      " 60  GarageCars     1460 non-null   int64  \n",
      " 61  GarageArea     1460 non-null   int64  \n",
      " 62  GarageQual     1379 non-null   object \n",
      " 63  GarageCond     1379 non-null   object \n",
      " 64  PavedDrive     1460 non-null   object \n",
      " 65  WoodDeckSF     1460 non-null   int64  \n",
      " 66  OpenPorchSF    1460 non-null   int64  \n",
      " 67  EnclosedPorch  1460 non-null   int64  \n",
      " 68  3SsnPorch      1460 non-null   int64  \n",
      " 69  ScreenPorch    1460 non-null   int64  \n",
      " 70  PoolArea       1460 non-null   int64  \n",
      " 71  PoolQC         7 non-null      object \n",
      " 72  Fence          281 non-null    object \n",
      " 73  MiscFeature    54 non-null     object \n",
      " 74  MiscVal        1460 non-null   int64  \n",
      " 75  MoSold         1460 non-null   int64  \n",
      " 76  YrSold         1460 non-null   int64  \n",
      " 77  SaleType       1460 non-null   object \n",
      " 78  SaleCondition  1460 non-null   object \n",
      " 79  SalePrice      1460 non-null   int64  \n",
      "dtypes: float64(3), int64(34), object(43)\n",
      "memory usage: 923.9+ KB\n"
     ]
    }
   ],
   "source": [
    "train.info()"
   ]
  },
  {
   "cell_type": "markdown",
   "id": "cc47b5df",
   "metadata": {},
   "source": [
    "### Column Data Types"
   ]
  },
  {
   "cell_type": "code",
   "execution_count": 8,
   "id": "54d2573f",
   "metadata": {},
   "outputs": [
    {
     "data": {
      "text/plain": [
       "MSSubClass         int64\n",
       "MSZoning          object\n",
       "LotFrontage      float64\n",
       "LotArea            int64\n",
       "Street            object\n",
       "                  ...   \n",
       "MoSold             int64\n",
       "YrSold             int64\n",
       "SaleType          object\n",
       "SaleCondition     object\n",
       "SalePrice          int64\n",
       "Length: 80, dtype: object"
      ]
     },
     "execution_count": 8,
     "metadata": {},
     "output_type": "execute_result"
    }
   ],
   "source": [
    "train.dtypes"
   ]
  },
  {
   "cell_type": "markdown",
   "id": "6649c58e",
   "metadata": {},
   "source": [
    "## Data Cleaning"
   ]
  },
  {
   "cell_type": "markdown",
   "id": "11175a41",
   "metadata": {},
   "source": [
    "### Checking for null values"
   ]
  },
  {
   "cell_type": "code",
   "execution_count": 9,
   "id": "7b46e3e1",
   "metadata": {
    "scrolled": true
   },
   "outputs": [
    {
     "data": {
      "text/plain": [
       "MSSubClass         0\n",
       "MSZoning           0\n",
       "LotFrontage      259\n",
       "LotArea            0\n",
       "Street             0\n",
       "                ... \n",
       "MoSold             0\n",
       "YrSold             0\n",
       "SaleType           0\n",
       "SaleCondition      0\n",
       "SalePrice          0\n",
       "Length: 80, dtype: int64"
      ]
     },
     "execution_count": 9,
     "metadata": {},
     "output_type": "execute_result"
    }
   ],
   "source": [
    "train.isna().sum()"
   ]
  },
  {
   "cell_type": "markdown",
   "id": "b09576d4",
   "metadata": {},
   "source": [
    "### Dealing with missing values"
   ]
  },
  {
   "cell_type": "markdown",
   "id": "f3e41d83",
   "metadata": {},
   "source": [
    "### For train dataset"
   ]
  },
  {
   "cell_type": "markdown",
   "id": "12c9a63f",
   "metadata": {},
   "source": [
    "#### Handling values for MSZoning"
   ]
  },
  {
   "cell_type": "code",
   "execution_count": 10,
   "id": "8f5758c2",
   "metadata": {},
   "outputs": [],
   "source": [
    "# Replacing 'C (all)' with 'C'\n",
    "\n",
    "train[\"MSZoning\"] = train[\"MSZoning\"].replace(\"C (all)\", \"C\")"
   ]
  },
  {
   "cell_type": "markdown",
   "id": "5bbba762",
   "metadata": {},
   "source": [
    "#### Handling missing values for LotFrontage"
   ]
  },
  {
   "cell_type": "code",
   "execution_count": 11,
   "id": "697a5b3b",
   "metadata": {},
   "outputs": [],
   "source": [
    "# Replacing the null values with median\n",
    "\n",
    "train[\"LotFrontage\"].fillna(train[\"LotFrontage\"].median(), inplace=True)"
   ]
  },
  {
   "cell_type": "markdown",
   "id": "561088df",
   "metadata": {},
   "source": [
    "#### Handling missing values for Alley, BsmtQual, BsmtCond, BsmtExposure, BsmtFinType1, BsmtFinType2, FireplaceQu, GarageType, GarageFinish, GarageQual, GarageCond, PoolQC & Fence"
   ]
  },
  {
   "cell_type": "code",
   "execution_count": 12,
   "id": "76dfbc1f",
   "metadata": {},
   "outputs": [],
   "source": [
    "# Replacing the missing values with 'NA'\n",
    "\n",
    "obj_NA = [\"Alley\", \"BsmtQual\", \"BsmtCond\", \"BsmtExposure\", \"BsmtFinType1\", \"BsmtFinType2\", \"FireplaceQu\", \"GarageType\", \"GarageFinish\", \"GarageQual\", \"GarageCond\", \"PoolQC\", \"Fence\"]\n",
    "\n",
    "for i in obj_NA:\n",
    "    train[i].fillna(\"NA\", inplace=True)"
   ]
  },
  {
   "cell_type": "markdown",
   "id": "3d6e539c",
   "metadata": {},
   "source": [
    "#### Handling missing values for MasVnrType"
   ]
  },
  {
   "cell_type": "code",
   "execution_count": 13,
   "id": "7d94c508",
   "metadata": {},
   "outputs": [],
   "source": [
    "# Replacing the missing values with 'CBlock'\n",
    "\n",
    "train[\"MasVnrType\"].fillna(\"CBlock\", inplace=True)"
   ]
  },
  {
   "cell_type": "markdown",
   "id": "b088ff32",
   "metadata": {},
   "source": [
    "#### Handling the missing values for MasVnrArea & Electrical"
   ]
  },
  {
   "cell_type": "code",
   "execution_count": 14,
   "id": "7aa49744",
   "metadata": {},
   "outputs": [
    {
     "name": "stdout",
     "output_type": "stream",
     "text": [
      "MasVnrArea : 0.55\n",
      "Electrical : 0.07\n"
     ]
    }
   ],
   "source": [
    "drop_na = [\"MasVnrArea\", \"Electrical\"]\n",
    "\n",
    "for i in drop_na:\n",
    "    print (i, \":\", round((train[i].isna().sum()/train.shape[0])*100, 2))"
   ]
  },
  {
   "cell_type": "markdown",
   "id": "3e745b78",
   "metadata": {},
   "source": [
    "Less than 1% of the data are missing in MasVnrArea & Electrical. So, drop only null values."
   ]
  },
  {
   "cell_type": "code",
   "execution_count": 15,
   "id": "359d24bf",
   "metadata": {},
   "outputs": [],
   "source": [
    "train = train.dropna(subset=drop_na, axis=0)"
   ]
  },
  {
   "cell_type": "markdown",
   "id": "93b85072",
   "metadata": {},
   "source": [
    "#### Handling the missing value for GarageYrBlt"
   ]
  },
  {
   "cell_type": "code",
   "execution_count": 16,
   "id": "f4b7074e",
   "metadata": {},
   "outputs": [],
   "source": [
    "# Replacing the null values with mode\n",
    "\n",
    "train[\"GarageYrBlt\"].fillna(train[\"GarageYrBlt\"].mode()[0], inplace=True)"
   ]
  },
  {
   "cell_type": "markdown",
   "id": "d62abd1a",
   "metadata": {},
   "source": [
    "#### Handling the missing value for MiscFeature"
   ]
  },
  {
   "cell_type": "code",
   "execution_count": 17,
   "id": "dfcae94f",
   "metadata": {},
   "outputs": [
    {
     "data": {
      "text/plain": [
       "96.28"
      ]
     },
     "execution_count": 17,
     "metadata": {},
     "output_type": "execute_result"
    }
   ],
   "source": [
    "round(train[\"MiscFeature\"].isna().sum()/train.shape[0]*100, 2)"
   ]
  },
  {
   "cell_type": "markdown",
   "id": "27bf702a",
   "metadata": {},
   "source": [
    "More than 90% of the data are missing. So, drop this column."
   ]
  },
  {
   "cell_type": "code",
   "execution_count": 18,
   "id": "fba70255",
   "metadata": {},
   "outputs": [],
   "source": [
    "train.drop(columns=[\"MiscFeature\"], inplace=True)"
   ]
  },
  {
   "cell_type": "markdown",
   "id": "8d07a654",
   "metadata": {},
   "source": [
    "### For test dataset"
   ]
  },
  {
   "cell_type": "markdown",
   "id": "bd07396b",
   "metadata": {},
   "source": [
    "#### Handling missing values for MSZoning, MasVnrType, BsmtFinSF1, BsmtFinSF2, BsmtUnfSF, TotalBsmtSF, BsmtFullBath, BsmtHalfBath, KitchenQual, Functional, GarageYrBlt, GarageCars, GarageArea & SaleType"
   ]
  },
  {
   "cell_type": "code",
   "execution_count": 19,
   "id": "c261fe21",
   "metadata": {},
   "outputs": [],
   "source": [
    "# Replacing 'C (all)' with 'C' and the null values with mode\n",
    "\n",
    "test[\"MSZoning\"] = test[\"MSZoning\"].replace(\"C (all)\", \"C\")\n",
    "\n",
    "obj_mode = [\"MSZoning\", \"MasVnrType\", \"BsmtFinSF1\", \"BsmtFinSF2\", \"BsmtUnfSF\", \"TotalBsmtSF\", \"BsmtFullBath\", \"BsmtHalfBath\", \"KitchenQual\", \"Functional\", \"GarageYrBlt\", \"GarageCars\", \"GarageArea\", \"SaleType\"]\n",
    "\n",
    "for i in obj_mode:\n",
    "    test[i].fillna(test[i].mode()[0], inplace=True)"
   ]
  },
  {
   "cell_type": "markdown",
   "id": "10bc103f",
   "metadata": {},
   "source": [
    "#### Handling missing values for LotFrontage"
   ]
  },
  {
   "cell_type": "code",
   "execution_count": 20,
   "id": "066a8a68",
   "metadata": {},
   "outputs": [],
   "source": [
    "# Replacing the null values with median\n",
    "\n",
    "obj_median = [\"LotFrontage\", \"MasVnrArea\"]\n",
    "\n",
    "for i in obj_median:\n",
    "    test[i].fillna(test[i].median(), inplace=True)"
   ]
  },
  {
   "cell_type": "markdown",
   "id": "2269e7d0",
   "metadata": {},
   "source": [
    "#### Handling missing values for Alley, BsmtQual, BsmtCond, BsmtExposure, BsmtFinType1, BsmtFinType2, FireplaceQu, GarageType, GarageFinish, GarageQual, GarageCond, PoolQC & Fence"
   ]
  },
  {
   "cell_type": "code",
   "execution_count": 21,
   "id": "55b78e44",
   "metadata": {},
   "outputs": [],
   "source": [
    "# Replacing the missing values with 'NA'\n",
    "\n",
    "obj_NA = [\"Alley\", \"BsmtQual\", \"BsmtCond\", \"BsmtExposure\", \"BsmtFinType1\", \"BsmtFinType2\", \"FireplaceQu\", \"GarageType\", \"GarageFinish\", \"GarageQual\", \"GarageCond\", \"PoolQC\", \"Fence\"]\n",
    "\n",
    "for i in obj_NA:\n",
    "    test[i].fillna(\"NA\", inplace=True)"
   ]
  },
  {
   "cell_type": "markdown",
   "id": "a0bd7140",
   "metadata": {},
   "source": [
    "#### Handling missing values for Utilities"
   ]
  },
  {
   "cell_type": "code",
   "execution_count": 22,
   "id": "8e839f0b",
   "metadata": {},
   "outputs": [],
   "source": [
    "# Replacing the null values with 'NoSeWa'\n",
    "\n",
    "test[\"Utilities\"].fillna(\"NoSeWa\", inplace=True)"
   ]
  },
  {
   "cell_type": "markdown",
   "id": "e5d50461",
   "metadata": {},
   "source": [
    "#### Handling missing values for Exterior1st"
   ]
  },
  {
   "cell_type": "code",
   "execution_count": 23,
   "id": "822c4e1a",
   "metadata": {},
   "outputs": [],
   "source": [
    "# Replacing the null values with 'Stone'\n",
    "\n",
    "test[\"Exterior1st\"].fillna(\"Stone\", inplace=True)"
   ]
  },
  {
   "cell_type": "markdown",
   "id": "199e9f19",
   "metadata": {},
   "source": [
    "#### Handling missing values for Exterior2nd"
   ]
  },
  {
   "cell_type": "code",
   "execution_count": 24,
   "id": "54ee8c45",
   "metadata": {},
   "outputs": [],
   "source": [
    "# Replacing the null values with 'Other'\n",
    "\n",
    "test[\"Exterior2nd\"].fillna(\"Other\", inplace=True)"
   ]
  },
  {
   "cell_type": "markdown",
   "id": "d6c96b99",
   "metadata": {},
   "source": [
    "#### Handling the missing value for MiscFeature"
   ]
  },
  {
   "cell_type": "code",
   "execution_count": 25,
   "id": "ebb315be",
   "metadata": {},
   "outputs": [
    {
     "data": {
      "text/plain": [
       "96.5"
      ]
     },
     "execution_count": 25,
     "metadata": {},
     "output_type": "execute_result"
    }
   ],
   "source": [
    "round(test[\"MiscFeature\"].isna().sum()/test.shape[0]*100, 2)"
   ]
  },
  {
   "cell_type": "markdown",
   "id": "74535f54",
   "metadata": {},
   "source": [
    "More than 90% of the data are missing. So, drop this column."
   ]
  },
  {
   "cell_type": "code",
   "execution_count": 26,
   "id": "e0a9bd58",
   "metadata": {},
   "outputs": [],
   "source": [
    "test.drop(columns=[\"MiscFeature\"], inplace=True)"
   ]
  },
  {
   "cell_type": "markdown",
   "id": "065e2f3a",
   "metadata": {},
   "source": [
    "#### Converting numerical column dtype to 'int64'"
   ]
  },
  {
   "cell_type": "code",
   "execution_count": 27,
   "id": "ee31afce",
   "metadata": {},
   "outputs": [],
   "source": [
    "int_list = [\"LotFrontage\", \"BsmtFinSF1\", \"BsmtFinSF2\", \"BsmtUnfSF\", \"TotalBsmtSF\", \"BsmtFullBath\", \"BsmtHalfBath\", \"GarageYrBlt\", \"GarageCars\", \"GarageArea\"]"
   ]
  },
  {
   "cell_type": "code",
   "execution_count": 28,
   "id": "7c2ab179",
   "metadata": {},
   "outputs": [],
   "source": [
    "for i in int_list:\n",
    "    train[i] = train[i].astype(\"int64\")\n",
    "    test[i] = test[i].astype(\"int64\")"
   ]
  },
  {
   "cell_type": "markdown",
   "id": "b7906f8b",
   "metadata": {},
   "source": [
    "Now there are no null values. So, there is no need for further data cleaning."
   ]
  },
  {
   "cell_type": "markdown",
   "id": "8a24f8e9",
   "metadata": {},
   "source": [
    "## Model Implementation"
   ]
  },
  {
   "cell_type": "code",
   "execution_count": 29,
   "id": "fe645a5e",
   "metadata": {},
   "outputs": [],
   "source": [
    "from sklearn import preprocessing\n",
    "from sklearn.preprocessing import StandardScaler\n",
    "from sklearn.model_selection import train_test_split\n",
    "from sklearn.metrics import r2_score\n",
    "\n",
    "from sklearn.tree import DecisionTreeRegressor\n",
    "from sklearn.ensemble import RandomForestRegressor, AdaBoostRegressor, GradientBoostingRegressor\n",
    "from xgboost import XGBRegressor\n",
    "from catboost import CatBoostRegressor\n",
    "from sklearn.neighbors import KNeighborsRegressor\n",
    "from sklearn.svm import SVR"
   ]
  },
  {
   "cell_type": "markdown",
   "id": "bf70fff9",
   "metadata": {},
   "source": [
    "### Label Encoding"
   ]
  },
  {
   "cell_type": "markdown",
   "id": "100ded05",
   "metadata": {},
   "source": [
    "#### For train dataset"
   ]
  },
  {
   "cell_type": "code",
   "execution_count": 30,
   "id": "0474c8d3",
   "metadata": {},
   "outputs": [],
   "source": [
    "label_encoder = preprocessing.LabelEncoder()\n",
    "\n",
    "for i in train.columns:\n",
    "    train[i] = label_encoder.fit_transform(train[i])"
   ]
  },
  {
   "cell_type": "markdown",
   "id": "cbf13c7a",
   "metadata": {},
   "source": [
    "#### For test dataset"
   ]
  },
  {
   "cell_type": "code",
   "execution_count": 31,
   "id": "85336b5c",
   "metadata": {},
   "outputs": [],
   "source": [
    "label_encoder = preprocessing.LabelEncoder()\n",
    "\n",
    "for i in test.columns:\n",
    "    test[i] = label_encoder.fit_transform(test[i])"
   ]
  },
  {
   "cell_type": "markdown",
   "id": "252c5cc9",
   "metadata": {},
   "source": [
    "### Define the Dependent and the Independent Variables"
   ]
  },
  {
   "cell_type": "code",
   "execution_count": 32,
   "id": "ef4b32ee",
   "metadata": {},
   "outputs": [],
   "source": [
    "X = train.drop(columns=[\"SalePrice\"])\n",
    "y = train[\"SalePrice\"]"
   ]
  },
  {
   "cell_type": "markdown",
   "id": "47df4885",
   "metadata": {},
   "source": [
    "### Scaling of Data using StandardScaler"
   ]
  },
  {
   "cell_type": "code",
   "execution_count": 33,
   "id": "aedcd8cc",
   "metadata": {},
   "outputs": [],
   "source": [
    "X_scaled = StandardScaler()\n",
    "X_scaled = X_scaled.fit_transform(X)"
   ]
  },
  {
   "cell_type": "markdown",
   "id": "4dbf56f0",
   "metadata": {},
   "source": [
    "### Training the Data"
   ]
  },
  {
   "cell_type": "code",
   "execution_count": 34,
   "id": "24833cf4",
   "metadata": {},
   "outputs": [],
   "source": [
    "X_train, X_test, y_train, y_test = train_test_split(X_scaled, y, test_size=0.1, random_state=36)"
   ]
  },
  {
   "cell_type": "markdown",
   "id": "b2a11327",
   "metadata": {},
   "source": [
    "#### Adjusted $R^2$\n",
    "\n",
    "$R^2_{adj.} = 1 - (1-R^2)*\\frac{n-1}{n-p-1}$"
   ]
  },
  {
   "cell_type": "code",
   "execution_count": 35,
   "id": "391c1dac",
   "metadata": {},
   "outputs": [],
   "source": [
    "def adj_R2(x):\n",
    "    n = X.shape[0]\n",
    "    p = X.shape[1]\n",
    "    return (round((1-(1-x)*(n-1)/(n-p-1))*100, 3))"
   ]
  },
  {
   "cell_type": "code",
   "execution_count": 36,
   "id": "56699737",
   "metadata": {},
   "outputs": [],
   "source": [
    "dt = DecisionTreeRegressor()\n",
    "rf = RandomForestRegressor()\n",
    "ada = AdaBoostRegressor()\n",
    "gb = GradientBoostingRegressor()\n",
    "xgb = XGBRegressor()\n",
    "knn = KNeighborsRegressor(n_neighbors=9)\n",
    "svr = SVR(C=10000.0, kernel=\"rbf\")\n",
    "\n",
    "regressor_array = [dt, rf, ada, gb, xgb, knn, svr]"
   ]
  },
  {
   "cell_type": "code",
   "execution_count": 37,
   "id": "c92c3b86",
   "metadata": {},
   "outputs": [],
   "source": [
    "r2, adj_r2 = [], []\n",
    "\n",
    "for i in regressor_array:\n",
    "    i.fit(X_train, y_train)\n",
    "    y_pred = i.predict(X_test)\n",
    "    \n",
    "    r2.append(round(r2_score(y_test, y_pred)*100, 3))\n",
    "    adj_r2.append(adj_R2(r2_score(y_test, y_pred)))\n",
    "    \n",
    "model = [\"Decision Tree\", \"Random Forest\", \"AdaBoost\", \"Gradient Boosting\", \"XGBoost\", \"k-Nearest Neighbor\", \"Support Vector Regression\"]"
   ]
  },
  {
   "cell_type": "code",
   "execution_count": 38,
   "id": "93ca4e70",
   "metadata": {},
   "outputs": [
    {
     "data": {
      "text/html": [
       "<div>\n",
       "<style scoped>\n",
       "    .dataframe tbody tr th:only-of-type {\n",
       "        vertical-align: middle;\n",
       "    }\n",
       "\n",
       "    .dataframe tbody tr th {\n",
       "        vertical-align: top;\n",
       "    }\n",
       "\n",
       "    .dataframe thead th {\n",
       "        text-align: right;\n",
       "    }\n",
       "</style>\n",
       "<table border=\"1\" class=\"dataframe\">\n",
       "  <thead>\n",
       "    <tr style=\"text-align: right;\">\n",
       "      <th></th>\n",
       "      <th>Model</th>\n",
       "      <th>R2 Score</th>\n",
       "      <th>Adjusted R2</th>\n",
       "    </tr>\n",
       "  </thead>\n",
       "  <tbody>\n",
       "    <tr>\n",
       "      <th>0</th>\n",
       "      <td>Decision Tree</td>\n",
       "      <td>75.290</td>\n",
       "      <td>73.885</td>\n",
       "    </tr>\n",
       "    <tr>\n",
       "      <th>1</th>\n",
       "      <td>Random Forest</td>\n",
       "      <td>86.749</td>\n",
       "      <td>85.995</td>\n",
       "    </tr>\n",
       "    <tr>\n",
       "      <th>2</th>\n",
       "      <td>AdaBoost</td>\n",
       "      <td>82.169</td>\n",
       "      <td>81.156</td>\n",
       "    </tr>\n",
       "    <tr>\n",
       "      <th>3</th>\n",
       "      <td>Gradient Boosting</td>\n",
       "      <td>89.155</td>\n",
       "      <td>88.538</td>\n",
       "    </tr>\n",
       "    <tr>\n",
       "      <th>4</th>\n",
       "      <td>XGBoost</td>\n",
       "      <td>84.347</td>\n",
       "      <td>83.457</td>\n",
       "    </tr>\n",
       "    <tr>\n",
       "      <th>5</th>\n",
       "      <td>k-Nearest Neighbor</td>\n",
       "      <td>86.157</td>\n",
       "      <td>85.370</td>\n",
       "    </tr>\n",
       "    <tr>\n",
       "      <th>6</th>\n",
       "      <td>Support Vector Regression</td>\n",
       "      <td>88.774</td>\n",
       "      <td>88.136</td>\n",
       "    </tr>\n",
       "  </tbody>\n",
       "</table>\n",
       "</div>"
      ],
      "text/plain": [
       "                       Model  R2 Score  Adjusted R2\n",
       "0              Decision Tree    75.290       73.885\n",
       "1              Random Forest    86.749       85.995\n",
       "2                   AdaBoost    82.169       81.156\n",
       "3          Gradient Boosting    89.155       88.538\n",
       "4                    XGBoost    84.347       83.457\n",
       "5         k-Nearest Neighbor    86.157       85.370\n",
       "6  Support Vector Regression    88.774       88.136"
      ]
     },
     "execution_count": 38,
     "metadata": {},
     "output_type": "execute_result"
    }
   ],
   "source": [
    "Evaluation = pd.DataFrame({\"Model\":model, \"R2 Score\":r2, \"Adjusted R2\":adj_r2})\n",
    "Evaluation"
   ]
  },
  {
   "cell_type": "markdown",
   "id": "807d9c9c",
   "metadata": {},
   "source": [
    "## Conclusion"
   ]
  },
  {
   "cell_type": "markdown",
   "id": "c4a50b8d",
   "metadata": {},
   "source": [
    "After comparing different machine learning models based on r2 score and it is found that **Random Forest** & **Gradient Boosting** regressor works efficiently for this dataset."
   ]
  }
 ],
 "metadata": {
  "kernelspec": {
   "display_name": "Python 3 (ipykernel)",
   "language": "python",
   "name": "python3"
  },
  "language_info": {
   "codemirror_mode": {
    "name": "ipython",
    "version": 3
   },
   "file_extension": ".py",
   "mimetype": "text/x-python",
   "name": "python",
   "nbconvert_exporter": "python",
   "pygments_lexer": "ipython3",
   "version": "3.9.7"
  }
 },
 "nbformat": 4,
 "nbformat_minor": 5
}
